{
 "cells": [
  {
   "cell_type": "markdown",
   "source": [
    "# 숫자 분류 모델 제작\n",
    "- MNIST 데이터셋으로부터 학습함\n",
    "- 참고자료: https://keras.io/examples/vision/mnist_convnet"
   ],
   "metadata": {
    "collapsed": false
   }
  },
  {
   "cell_type": "code",
   "execution_count": 1,
   "outputs": [],
   "source": [
    "import cv2\n",
    "import numpy as np\n",
    "import matplotlib.pyplot as plt\n",
    "from tensorflow import keras"
   ],
   "metadata": {
    "collapsed": false,
    "ExecuteTime": {
     "end_time": "2023-08-04T09:32:14.572897Z",
     "start_time": "2023-08-04T09:32:08.796898Z"
    }
   }
  },
  {
   "cell_type": "markdown",
   "source": [
    "## 데이터 가져오기\n",
    "- keras에서 제공하는 MNIST 데이터셋 사용"
   ],
   "metadata": {
    "collapsed": false
   }
  },
  {
   "cell_type": "code",
   "execution_count": 2,
   "metadata": {
    "collapsed": true,
    "ExecuteTime": {
     "end_time": "2023-08-04T09:32:14.794606Z",
     "start_time": "2023-08-04T09:32:14.573889Z"
    }
   },
   "outputs": [
    {
     "data": {
      "text/plain": "((60000, 28, 28), (60000,), (10000, 28, 28), (10000,))"
     },
     "execution_count": 2,
     "metadata": {},
     "output_type": "execute_result"
    }
   ],
   "source": [
    "from keras.datasets import mnist\n",
    "\n",
    "(x_train, y_train), (x_test, y_test) = mnist.load_data()\n",
    "x_train.shape, y_train.shape, x_test.shape, y_test.shape"
   ]
  },
  {
   "cell_type": "markdown",
   "source": [
    "## 데이터 살펴보기"
   ],
   "metadata": {
    "collapsed": false
   }
  },
  {
   "cell_type": "code",
   "execution_count": 3,
   "outputs": [
    {
     "data": {
      "text/plain": "<Figure size 640x480 with 12 Axes>",
      "image/png": "[encoded data removed]"
     },
     "metadata": {},
     "output_type": "display_data"
    }
   ],
   "source": [
    "from numpy.random import choice\n",
    "\n",
    "NUM_SAMPLES = 12\n",
    "samples = choice(len(x_train), NUM_SAMPLES)\n",
    "for i in range(NUM_SAMPLES):\n",
    "    plt.subplot(3, 4, i + 1)\n",
    "    plt.axis(False)\n",
    "    plt.imshow(x_train[i])\n",
    "    plt.title(y_train[i])\n",
    "plt.show()"
   ],
   "metadata": {
    "collapsed": false,
    "ExecuteTime": {
     "end_time": "2023-08-04T09:32:15.175428Z",
     "start_time": "2023-08-04T09:32:14.794031Z"
    }
   }
  },
  {
   "cell_type": "markdown",
   "source": [
    "## 데이터 전처리\n",
    "- [0, 255] 범위의 정수를 [0, 1] 범위의 실수로 변환\n",
    "- Keras API에 사용하기 위해 행렬을 28x28에서 28x28x1로 변환\n",
    "- y값에 one hot encoding을 적용함"
   ],
   "metadata": {
    "collapsed": false
   }
  },
  {
   "cell_type": "code",
   "execution_count": 4,
   "outputs": [
    {
     "data": {
      "text/plain": "((60000, 28, 28, 1), dtype('float64'))"
     },
     "execution_count": 4,
     "metadata": {},
     "output_type": "execute_result"
    }
   ],
   "source": [
    "x_train = x_train.reshape(-1, 28, 28, 1) / 255\n",
    "x_test = x_test.reshape(-1, 28, 28, 1) / 255\n",
    "x_train.shape, x_train.dtype"
   ],
   "metadata": {
    "collapsed": false,
    "ExecuteTime": {
     "end_time": "2023-08-04T09:32:15.315239Z",
     "start_time": "2023-08-04T09:32:15.173909Z"
    }
   }
  },
  {
   "cell_type": "code",
   "execution_count": 5,
   "outputs": [
    {
     "data": {
      "text/plain": "((60000, 10), dtype('float32'))"
     },
     "execution_count": 5,
     "metadata": {},
     "output_type": "execute_result"
    }
   ],
   "source": [
    "from keras.utils import to_categorical\n",
    "\n",
    "y_train = to_categorical(y_train)\n",
    "y_test = to_categorical(y_test)\n",
    "y_train.shape, y_train.dtype"
   ],
   "metadata": {
    "collapsed": false,
    "ExecuteTime": {
     "end_time": "2023-08-04T09:32:15.322380Z",
     "start_time": "2023-08-04T09:32:15.314989Z"
    }
   }
  },
  {
   "cell_type": "markdown",
   "source": [
    "## 데이터 증강"
   ],
   "metadata": {
    "collapsed": false
   }
  },
  {
   "cell_type": "code",
   "execution_count": 6,
   "outputs": [],
   "source": [
    "from keras.preprocessing.image import ImageDataGenerator\n",
    "\n",
    "generator = ImageDataGenerator(\n",
    "    rotation_range=18,\n",
    "    zoom_range=0.2,\n",
    "    width_shift_range=0.1,\n",
    "    height_shift_range=0.1,\n",
    "    fill_mode='constant',\n",
    "    cval=0,\n",
    ")"
   ],
   "metadata": {
    "collapsed": false,
    "ExecuteTime": {
     "end_time": "2023-08-04T09:32:15.328882Z",
     "start_time": "2023-08-04T09:32:15.322179Z"
    }
   }
  },
  {
   "cell_type": "markdown",
   "source": [
    "## 모델 구성"
   ],
   "metadata": {
    "collapsed": false
   }
  },
  {
   "cell_type": "code",
   "execution_count": 7,
   "outputs": [
    {
     "name": "stdout",
     "output_type": "stream",
     "text": [
      "Model: \"sequential\"\n",
      "_________________________________________________________________\n",
      " Layer (type)                Output Shape              Param #   \n",
      "=================================================================\n",
      " conv2d (Conv2D)             (None, 26, 26, 32)        320       \n",
      "                                                                 \n",
      " max_pooling2d (MaxPooling2  (None, 13, 13, 32)        0         \n",
      " D)                                                              \n",
      "                                                                 \n",
      " conv2d_1 (Conv2D)           (None, 11, 11, 64)        18496     \n",
      "                                                                 \n",
      " max_pooling2d_1 (MaxPoolin  (None, 5, 5, 64)          0         \n",
      " g2D)                                                            \n",
      "                                                                 \n",
      " flatten (Flatten)           (None, 1600)              0         \n",
      "                                                                 \n",
      " dropout (Dropout)           (None, 1600)              0         \n",
      "                                                                 \n",
      " dense (Dense)               (None, 10)                16010     \n",
      "                                                                 \n",
      "=================================================================\n",
      "Total params: 34826 (136.04 KB)\n",
      "Trainable params: 34826 (136.04 KB)\n",
      "Non-trainable params: 0 (0.00 Byte)\n",
      "_________________________________________________________________\n"
     ]
    },
    {
     "name": "stderr",
     "output_type": "stream",
     "text": [
      "2023-08-04 18:32:15.354026: I metal_plugin/src/device/metal_device.cc:1154] Metal device set to: Apple M1\n",
      "2023-08-04 18:32:15.354091: I metal_plugin/src/device/metal_device.cc:296] systemMemory: 8.00 GB\n",
      "2023-08-04 18:32:15.354109: I metal_plugin/src/device/metal_device.cc:313] maxCacheSize: 2.67 GB\n",
      "2023-08-04 18:32:15.354157: I tensorflow/core/common_runtime/pluggable_device/pluggable_device_factory.cc:303] Could not identify NUMA node of platform GPU ID 0, defaulting to 0. Your kernel may not have been built with NUMA support.\n",
      "2023-08-04 18:32:15.354177: I tensorflow/core/common_runtime/pluggable_device/pluggable_device_factory.cc:269] Created TensorFlow device (/job:localhost/replica:0/task:0/device:GPU:0 with 0 MB memory) -> physical PluggableDevice (device: 0, name: METAL, pci bus id: <undefined>)\n"
     ]
    }
   ],
   "source": [
    "from keras import Sequential\n",
    "from keras.layers import Conv2D, MaxPooling2D, Flatten, Dense, Dropout\n",
    "\n",
    "kernel_size = (3, 3)\n",
    "\n",
    "model = Sequential([\n",
    "    Conv2D(32, kernel_size, activation='relu', input_shape=(28, 28, 1)),\n",
    "    MaxPooling2D(pool_size=(2, 2)),\n",
    "    Conv2D(64, kernel_size, activation='relu'),\n",
    "    MaxPooling2D(pool_size=(2, 2)),\n",
    "    Flatten(),\n",
    "    Dropout(0.5),\n",
    "    Dense(10, activation='softmax')\n",
    "])\n",
    "\n",
    "model.compile(\n",
    "    loss='categorical_crossentropy',\n",
    "    optimizer='adam',\n",
    "    metrics=['accuracy']\n",
    ")\n",
    "\n",
    "model.summary()"
   ],
   "metadata": {
    "collapsed": false,
    "ExecuteTime": {
     "end_time": "2023-08-04T09:32:15.517616Z",
     "start_time": "2023-08-04T09:32:15.332886Z"
    }
   }
  },
  {
   "cell_type": "markdown",
   "source": [
    "## 모델 학습\n",
    "- 검증 데이터 기준 98% 정확도"
   ],
   "metadata": {
    "collapsed": false
   }
  },
  {
   "cell_type": "code",
   "execution_count": 8,
   "outputs": [
    {
     "name": "stdout",
     "output_type": "stream",
     "text": [
      "Epoch 1/15\n"
     ]
    },
    {
     "name": "stderr",
     "output_type": "stream",
     "text": [
      "2023-08-04 18:32:16.074312: I tensorflow/core/grappler/optimizers/custom_graph_optimizer_registry.cc:114] Plugin optimizer for device_type GPU is enabled.\n"
     ]
    },
    {
     "name": "stdout",
     "output_type": "stream",
     "text": [
      "118/118 [==============================] - ETA: 0s - loss: 1.1545 - accuracy: 0.6233"
     ]
    },
    {
     "name": "stderr",
     "output_type": "stream",
     "text": [
      "2023-08-04 18:32:25.985670: I tensorflow/core/grappler/optimizers/custom_graph_optimizer_registry.cc:114] Plugin optimizer for device_type GPU is enabled.\n"
     ]
    },
    {
     "name": "stdout",
     "output_type": "stream",
     "text": [
      "118/118 [==============================] - 13s 106ms/step - loss: 1.1545 - accuracy: 0.6233 - val_loss: 0.1652 - val_accuracy: 0.9614\n",
      "Epoch 2/15\n",
      "118/118 [==============================] - 12s 100ms/step - loss: 0.4722 - accuracy: 0.8543 - val_loss: 0.0972 - val_accuracy: 0.9727\n",
      "Epoch 3/15\n",
      "118/118 [==============================] - 12s 99ms/step - loss: 0.3528 - accuracy: 0.8927 - val_loss: 0.0731 - val_accuracy: 0.9790\n",
      "Epoch 4/15\n",
      "118/118 [==============================] - 12s 100ms/step - loss: 0.3058 - accuracy: 0.9064 - val_loss: 0.0613 - val_accuracy: 0.9845\n",
      "Epoch 5/15\n",
      "118/118 [==============================] - 12s 99ms/step - loss: 0.2650 - accuracy: 0.9190 - val_loss: 0.0533 - val_accuracy: 0.9848\n",
      "Epoch 6/15\n",
      "118/118 [==============================] - 12s 99ms/step - loss: 0.2409 - accuracy: 0.9272 - val_loss: 0.0483 - val_accuracy: 0.9865\n",
      "Epoch 7/15\n",
      "118/118 [==============================] - 12s 100ms/step - loss: 0.2187 - accuracy: 0.9334 - val_loss: 0.0456 - val_accuracy: 0.9860\n",
      "Epoch 8/15\n",
      "118/118 [==============================] - 12s 99ms/step - loss: 0.2073 - accuracy: 0.9373 - val_loss: 0.0436 - val_accuracy: 0.9873\n",
      "Epoch 9/15\n",
      "118/118 [==============================] - 12s 98ms/step - loss: 0.1918 - accuracy: 0.9423 - val_loss: 0.0447 - val_accuracy: 0.9862\n",
      "Epoch 10/15\n",
      "118/118 [==============================] - 12s 99ms/step - loss: 0.1815 - accuracy: 0.9445 - val_loss: 0.0375 - val_accuracy: 0.9885\n",
      "Epoch 11/15\n",
      "118/118 [==============================] - 12s 101ms/step - loss: 0.1715 - accuracy: 0.9465 - val_loss: 0.0351 - val_accuracy: 0.9892\n",
      "Epoch 12/15\n",
      "118/118 [==============================] - 11s 97ms/step - loss: 0.1622 - accuracy: 0.9513 - val_loss: 0.0349 - val_accuracy: 0.9894\n",
      "Epoch 13/15\n",
      "118/118 [==============================] - 12s 105ms/step - loss: 0.1570 - accuracy: 0.9529 - val_loss: 0.0401 - val_accuracy: 0.9875\n",
      "Epoch 14/15\n",
      "118/118 [==============================] - 12s 103ms/step - loss: 0.1545 - accuracy: 0.9530 - val_loss: 0.0340 - val_accuracy: 0.9892\n",
      "Epoch 15/15\n",
      "118/118 [==============================] - 12s 100ms/step - loss: 0.1463 - accuracy: 0.9552 - val_loss: 0.0337 - val_accuracy: 0.9907\n"
     ]
    }
   ],
   "source": [
    "history = model.fit(\n",
    "    generator.flow(x_train, y_train, batch_size=512),\n",
    "    epochs=15,\n",
    "    validation_data=(x_test, y_test),\n",
    "    verbose=1\n",
    ")"
   ],
   "metadata": {
    "collapsed": false,
    "ExecuteTime": {
     "end_time": "2023-08-04T09:35:14.407152Z",
     "start_time": "2023-08-04T09:32:15.528215Z"
    }
   }
  },
  {
   "cell_type": "code",
   "execution_count": 9,
   "outputs": [
    {
     "data": {
      "text/plain": "<Figure size 640x480 with 1 Axes>",
      "image/png": "[encoded data removed]"
     },
     "metadata": {},
     "output_type": "display_data"
    }
   ],
   "source": [
    "# draw accuracy and val_accuracy graph\n",
    "plt.plot(history.history['accuracy'])\n",
    "plt.plot(history.history['val_accuracy'])\n",
    "plt.legend(['accuracy', 'val_accuracy'])\n",
    "plt.xlabel('epoch')\n",
    "plt.ylabel('accuracy')\n",
    "plt.show()"
   ],
   "metadata": {
    "collapsed": false,
    "ExecuteTime": {
     "end_time": "2023-08-04T09:35:14.549680Z",
     "start_time": "2023-08-04T09:35:14.436867Z"
    }
   }
  },
  {
   "cell_type": "markdown",
   "source": [
    "# 모델 저장"
   ],
   "metadata": {
    "collapsed": false
   }
  },
  {
   "cell_type": "code",
   "execution_count": 12,
   "outputs": [],
   "source": [
    "from datetime import datetime\n",
    "\n",
    "model_name = f\"model-{datetime.utcnow().isoformat()}.keras\"\n",
    "model.save(\"../\" + model_name)"
   ],
   "metadata": {
    "collapsed": false,
    "ExecuteTime": {
     "end_time": "2023-08-04T09:51:44.905319Z",
     "start_time": "2023-08-04T09:51:44.883569Z"
    }
   }
  }
 ],
 "metadata": {
  "kernelspec": {
   "display_name": "Python 3",
   "language": "python",
   "name": "python3"
  },
  "language_info": {
   "codemirror_mode": {
    "name": "ipython",
    "version": 2
   },
   "file_extension": ".py",
   "mimetype": "text/x-python",
   "name": "python",
   "nbconvert_exporter": "python",
   "pygments_lexer": "ipython2",
   "version": "2.7.6"
  }
 },
 "nbformat": 4,
 "nbformat_minor": 0
}
