{
 "cells": [
  {
   "cell_type": "markdown",
   "source": [
    "# 숫자 분류 모델 제작\n",
    "- MNIST 데이터셋으로부터 학습함\n",
    "- 참고자료: https://keras.io/examples/vision/mnist_convnet"
   ],
   "metadata": {
    "collapsed": false
   }
  },
  {
   "cell_type": "code",
   "execution_count": 11,
   "outputs": [],
   "source": [
    "import cv2\n",
    "import numpy as np\n",
    "import matplotlib.pyplot as plt\n",
    "from tensorflow import keras"
   ],
   "metadata": {
    "collapsed": false,
    "ExecuteTime": {
     "end_time": "2023-09-07T08:15:50.969596Z",
     "start_time": "2023-09-07T08:15:50.936710Z"
    }
   }
  },
  {
   "cell_type": "markdown",
   "source": [
    "## 데이터 가져오기\n",
    "- keras에서 제공하는 MNIST 데이터셋 사용"
   ],
   "metadata": {
    "collapsed": false
   }
  },
  {
   "cell_type": "code",
   "execution_count": 12,
   "metadata": {
    "collapsed": true,
    "ExecuteTime": {
     "end_time": "2023-09-07T08:15:51.145482Z",
     "start_time": "2023-09-07T08:15:50.967604Z"
    }
   },
   "outputs": [
    {
     "data": {
      "text/plain": "((60000, 28, 28), (60000,), (10000, 28, 28), (10000,))"
     },
     "execution_count": 12,
     "metadata": {},
     "output_type": "execute_result"
    }
   ],
   "source": [
    "from keras.datasets import mnist\n",
    "\n",
    "(x_train, y_train), (x_test, y_test) = mnist.load_data()\n",
    "x_train.shape, y_train.shape, x_test.shape, y_test.shape"
   ]
  },
  {
   "cell_type": "markdown",
   "source": [
    "## 데이터 살펴보기"
   ],
   "metadata": {
    "collapsed": false
   }
  },
  {
   "cell_type": "code",
   "execution_count": 13,
   "outputs": [
    {
     "data": {
      "text/plain": "<Figure size 640x480 with 12 Axes>",
      "image/png": "[encoded data removed]"
     },
     "metadata": {},
     "output_type": "display_data"
    }
   ],
   "source": [
    "from numpy.random import choice\n",
    "\n",
    "NUM_SAMPLES = 12\n",
    "samples = choice(len(x_train), NUM_SAMPLES)\n",
    "for i in range(NUM_SAMPLES):\n",
    "    plt.subplot(3, 4, i + 1)\n",
    "    plt.axis(False)\n",
    "    plt.imshow(x_train[i])\n",
    "    plt.title(y_train[i])\n",
    "plt.show()"
   ],
   "metadata": {
    "collapsed": false,
    "ExecuteTime": {
     "end_time": "2023-09-07T08:15:51.385641Z",
     "start_time": "2023-09-07T08:15:51.149619Z"
    }
   }
  },
  {
   "cell_type": "markdown",
   "source": [
    "## 데이터 전처리\n",
    "- [0, 255] 범위의 정수를 [0, 1] 범위의 실수로 변환\n",
    "- Keras API에 사용하기 위해 행렬을 28x28에서 28x28x1로 변환\n",
    "- y값에 one hot encoding을 적용함"
   ],
   "metadata": {
    "collapsed": false
   }
  },
  {
   "cell_type": "code",
   "execution_count": 14,
   "outputs": [
    {
     "data": {
      "text/plain": "((60000, 28, 28, 1), dtype('float64'))"
     },
     "execution_count": 14,
     "metadata": {},
     "output_type": "execute_result"
    }
   ],
   "source": [
    "x_train = x_train.reshape(-1, 28, 28, 1) / 255\n",
    "x_test = x_test.reshape(-1, 28, 28, 1) / 255\n",
    "x_train.shape, x_train.dtype"
   ],
   "metadata": {
    "collapsed": false,
    "ExecuteTime": {
     "end_time": "2023-09-07T08:15:51.541122Z",
     "start_time": "2023-09-07T08:15:51.385882Z"
    }
   }
  },
  {
   "cell_type": "code",
   "execution_count": 15,
   "outputs": [
    {
     "data": {
      "text/plain": "((60000, 10), dtype('float32'))"
     },
     "execution_count": 15,
     "metadata": {},
     "output_type": "execute_result"
    }
   ],
   "source": [
    "from keras.utils import to_categorical\n",
    "\n",
    "y_train = to_categorical(y_train)\n",
    "y_test = to_categorical(y_test)\n",
    "y_train.shape, y_train.dtype"
   ],
   "metadata": {
    "collapsed": false,
    "ExecuteTime": {
     "end_time": "2023-09-07T08:15:51.579192Z",
     "start_time": "2023-09-07T08:15:51.549685Z"
    }
   }
  },
  {
   "cell_type": "markdown",
   "source": [
    "## 데이터 증강"
   ],
   "metadata": {
    "collapsed": false
   }
  },
  {
   "cell_type": "code",
   "execution_count": 16,
   "outputs": [],
   "source": [
    "from keras.preprocessing.image import ImageDataGenerator\n",
    "\n",
    "generator = ImageDataGenerator(\n",
    "    rotation_range=10,\n",
    "    zoom_range=0.2,\n",
    "    shear_range=0.2,\n",
    "    width_shift_range=0.1,\n",
    "    height_shift_range=0.1,\n",
    "    fill_mode='constant',\n",
    "    cval=0,\n",
    ")"
   ],
   "metadata": {
    "collapsed": false,
    "ExecuteTime": {
     "end_time": "2023-09-07T08:15:51.585673Z",
     "start_time": "2023-09-07T08:15:51.564381Z"
    }
   }
  },
  {
   "cell_type": "markdown",
   "source": [
    "## 모델 구성"
   ],
   "metadata": {
    "collapsed": false
   }
  },
  {
   "cell_type": "code",
   "execution_count": 17,
   "outputs": [
    {
     "name": "stdout",
     "output_type": "stream",
     "text": [
      "Model: \"sequential_1\"\n",
      "_________________________________________________________________\n",
      " Layer (type)                Output Shape              Param #   \n",
      "=================================================================\n",
      " conv2d_2 (Conv2D)           (None, 26, 26, 64)        640       \n",
      "                                                                 \n",
      " conv2d_3 (Conv2D)           (None, 24, 24, 64)        36928     \n",
      "                                                                 \n",
      " max_pooling2d_2 (MaxPoolin  (None, 12, 12, 64)        0         \n",
      " g2D)                                                            \n",
      "                                                                 \n",
      " batch_normalization (Batch  (None, 12, 12, 64)        256       \n",
      " Normalization)                                                  \n",
      "                                                                 \n",
      " conv2d_4 (Conv2D)           (None, 10, 10, 128)       73856     \n",
      "                                                                 \n",
      " conv2d_5 (Conv2D)           (None, 8, 8, 128)         147584    \n",
      "                                                                 \n",
      " max_pooling2d_3 (MaxPoolin  (None, 4, 4, 128)         0         \n",
      " g2D)                                                            \n",
      "                                                                 \n",
      " batch_normalization_1 (Bat  (None, 4, 4, 128)         512       \n",
      " chNormalization)                                                \n",
      "                                                                 \n",
      " conv2d_6 (Conv2D)           (None, 2, 2, 256)         295168    \n",
      "                                                                 \n",
      " max_pooling2d_4 (MaxPoolin  (None, 1, 1, 256)         0         \n",
      " g2D)                                                            \n",
      "                                                                 \n",
      " batch_normalization_2 (Bat  (None, 1, 1, 256)         1024      \n",
      " chNormalization)                                                \n",
      "                                                                 \n",
      " flatten_1 (Flatten)         (None, 256)               0         \n",
      "                                                                 \n",
      " dense_1 (Dense)             (None, 512)               131584    \n",
      "                                                                 \n",
      " dense_2 (Dense)             (None, 10)                5130      \n",
      "                                                                 \n",
      "=================================================================\n",
      "Total params: 692682 (2.64 MB)\n",
      "Trainable params: 691786 (2.64 MB)\n",
      "Non-trainable params: 896 (3.50 KB)\n",
      "_________________________________________________________________\n"
     ]
    }
   ],
   "source": [
    "from keras import Sequential\n",
    "from keras.layers import Conv2D, MaxPooling2D, Flatten, Dense, Dropout, BatchNormalization\n",
    "\n",
    "kernel_size = (3, 3)\n",
    "\n",
    "model = Sequential([\n",
    "    Conv2D(64, kernel_size, activation='relu', input_shape=(28, 28, 1)),\n",
    "    Conv2D(64, kernel_size, activation='relu', input_shape=(28, 28, 1)),\n",
    "    MaxPooling2D(pool_size=(2, 2)),\n",
    "    BatchNormalization(),\n",
    "    Conv2D(128, kernel_size, activation='relu'),\n",
    "    Conv2D(128, kernel_size, activation='relu'),\n",
    "    MaxPooling2D(pool_size=(2, 2)),\n",
    "    BatchNormalization(),\n",
    "    Conv2D(256, kernel_size, activation='relu'),\n",
    "    MaxPooling2D(pool_size=(2, 2)),\n",
    "    BatchNormalization(),\n",
    "    Flatten(),\n",
    "    Dense(512, activation='relu'),\n",
    "    # Dropout(0.5),\n",
    "    Dense(10, activation='softmax')\n",
    "])\n",
    "\n",
    "model.compile(\n",
    "    loss='categorical_crossentropy',\n",
    "    optimizer='adam',\n",
    "    metrics=['accuracy']\n",
    ")\n",
    "\n",
    "model.summary()"
   ],
   "metadata": {
    "collapsed": false,
    "ExecuteTime": {
     "end_time": "2023-09-07T08:15:51.989150Z",
     "start_time": "2023-09-07T08:15:51.568721Z"
    }
   }
  },
  {
   "cell_type": "markdown",
   "source": [
    "## 모델 학습\n",
    "- 검증 데이터 기준 98% 정확도"
   ],
   "metadata": {
    "collapsed": false
   }
  },
  {
   "cell_type": "code",
   "execution_count": 18,
   "outputs": [
    {
     "name": "stdout",
     "output_type": "stream",
     "text": [
      "Epoch 1/15\n"
     ]
    },
    {
     "name": "stderr",
     "output_type": "stream",
     "text": [
      "2023-09-07 17:15:52.511123: I tensorflow/core/grappler/optimizers/custom_graph_optimizer_registry.cc:114] Plugin optimizer for device_type GPU is enabled.\n"
     ]
    },
    {
     "name": "stdout",
     "output_type": "stream",
     "text": [
      "118/118 [==============================] - ETA: 0s - loss: 0.2044 - accuracy: 0.9374"
     ]
    },
    {
     "name": "stderr",
     "output_type": "stream",
     "text": [
      "2023-09-07 17:16:09.462547: I tensorflow/core/grappler/optimizers/custom_graph_optimizer_registry.cc:114] Plugin optimizer for device_type GPU is enabled.\n"
     ]
    },
    {
     "name": "stdout",
     "output_type": "stream",
     "text": [
      "118/118 [==============================] - 20s 150ms/step - loss: 0.2044 - accuracy: 0.9374 - val_loss: 1.9581 - val_accuracy: 0.4536\n",
      "Epoch 2/15\n",
      "118/118 [==============================] - 16s 135ms/step - loss: 0.0680 - accuracy: 0.9794 - val_loss: 1.3414 - val_accuracy: 0.6317\n",
      "Epoch 3/15\n",
      "118/118 [==============================] - 17s 140ms/step - loss: 0.0539 - accuracy: 0.9835 - val_loss: 0.7094 - val_accuracy: 0.7317\n",
      "Epoch 4/15\n",
      "118/118 [==============================] - 16s 136ms/step - loss: 0.0499 - accuracy: 0.9845 - val_loss: 0.0919 - val_accuracy: 0.9710\n",
      "Epoch 5/15\n",
      "118/118 [==============================] - 16s 131ms/step - loss: 0.0439 - accuracy: 0.9869 - val_loss: 0.0489 - val_accuracy: 0.9851\n",
      "Epoch 6/15\n",
      "118/118 [==============================] - 15s 131ms/step - loss: 0.0410 - accuracy: 0.9872 - val_loss: 0.0511 - val_accuracy: 0.9855\n",
      "Epoch 7/15\n",
      "118/118 [==============================] - 15s 131ms/step - loss: 0.0374 - accuracy: 0.9887 - val_loss: 0.0664 - val_accuracy: 0.9800\n",
      "Epoch 8/15\n",
      "118/118 [==============================] - 16s 131ms/step - loss: 0.0368 - accuracy: 0.9890 - val_loss: 0.0257 - val_accuracy: 0.9909\n",
      "Epoch 9/15\n",
      "118/118 [==============================] - 16s 131ms/step - loss: 0.0359 - accuracy: 0.9893 - val_loss: 0.0397 - val_accuracy: 0.9884\n",
      "Epoch 10/15\n",
      "118/118 [==============================] - 16s 132ms/step - loss: 0.0357 - accuracy: 0.9898 - val_loss: 0.0485 - val_accuracy: 0.9878\n",
      "Epoch 11/15\n",
      "118/118 [==============================] - 16s 131ms/step - loss: 0.0382 - accuracy: 0.9889 - val_loss: 0.0744 - val_accuracy: 0.9816\n",
      "Epoch 12/15\n",
      "118/118 [==============================] - 15s 131ms/step - loss: 0.0346 - accuracy: 0.9901 - val_loss: 0.0414 - val_accuracy: 0.9885\n",
      "Epoch 13/15\n",
      "118/118 [==============================] - 16s 131ms/step - loss: 0.0389 - accuracy: 0.9891 - val_loss: 0.0848 - val_accuracy: 0.9820\n",
      "Epoch 14/15\n",
      "118/118 [==============================] - 16s 132ms/step - loss: 0.0340 - accuracy: 0.9904 - val_loss: 0.0310 - val_accuracy: 0.9918\n",
      "Epoch 15/15\n",
      "118/118 [==============================] - 16s 132ms/step - loss: 0.0308 - accuracy: 0.9918 - val_loss: 0.1087 - val_accuracy: 0.9778\n"
     ]
    }
   ],
   "source": [
    "history = model.fit(\n",
    "    generator.flow(x_train, y_train, batch_size=512),\n",
    "    # x_train, y_train,\n",
    "    epochs=15,\n",
    "    validation_data=(x_test, y_test),\n",
    "    verbose=1\n",
    ")"
   ],
   "metadata": {
    "collapsed": false,
    "ExecuteTime": {
     "end_time": "2023-09-07T08:19:51.920948Z",
     "start_time": "2023-09-07T08:15:52.000081Z"
    }
   }
  },
  {
   "cell_type": "code",
   "execution_count": 19,
   "outputs": [
    {
     "data": {
      "text/plain": "<Figure size 640x480 with 1 Axes>",
      "image/png": "[encoded data removed]"
     },
     "metadata": {},
     "output_type": "display_data"
    }
   ],
   "source": [
    "# draw accuracy and val_accuracy graph\n",
    "plt.plot(history.history['accuracy'])\n",
    "plt.plot(history.history['val_accuracy'])\n",
    "plt.legend(['accuracy', 'val_accuracy'])\n",
    "plt.xlabel('epoch')\n",
    "plt.ylabel('accuracy')\n",
    "plt.show()"
   ],
   "metadata": {
    "collapsed": false,
    "ExecuteTime": {
     "end_time": "2023-09-07T08:19:52.017280Z",
     "start_time": "2023-09-07T08:19:51.943316Z"
    }
   }
  },
  {
   "cell_type": "markdown",
   "source": [
    "# 모델 저장"
   ],
   "metadata": {
    "collapsed": false
   }
  },
  {
   "cell_type": "code",
   "execution_count": 20,
   "outputs": [],
   "source": [
    "model.save(f\"../model.keras\")"
   ],
   "metadata": {
    "collapsed": false,
    "ExecuteTime": {
     "end_time": "2023-09-07T08:19:52.088102Z",
     "start_time": "2023-09-07T08:19:52.021269Z"
    }
   }
  }
 ],
 "metadata": {
  "kernelspec": {
   "display_name": "Python 3",
   "language": "python",
   "name": "python3"
  },
  "language_info": {
   "codemirror_mode": {
    "name": "ipython",
    "version": 2
   },
   "file_extension": ".py",
   "mimetype": "text/x-python",
   "name": "python",
   "nbconvert_exporter": "python",
   "pygments_lexer": "ipython2",
   "version": "2.7.6"
  }
 },
 "nbformat": 4,
 "nbformat_minor": 0
}
