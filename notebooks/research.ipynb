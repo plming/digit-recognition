{
 "cells": [
  {
   "cell_type": "markdown",
   "source": [
    "# 숫자 분류 모델 제작\n",
    "- MNIST 데이터셋으로부터 학습함\n",
    "- 참고자료: https://keras.io/examples/vision/mnist_convnet"
   ],
   "metadata": {
    "collapsed": false
   }
  },
  {
   "cell_type": "code",
   "execution_count": 1,
   "outputs": [],
   "source": [
    "import cv2\n",
    "import numpy as np\n",
    "import matplotlib.pyplot as plt\n",
    "from tensorflow import keras"
   ],
   "metadata": {
    "collapsed": false,
    "ExecuteTime": {
     "end_time": "2023-07-31T07:09:08.088470Z",
     "start_time": "2023-07-31T07:09:05.225535Z"
    }
   }
  },
  {
   "cell_type": "markdown",
   "source": [
    "## 데이터 가져오기\n",
    "- keras에서 제공하는 MNIST 데이터셋 사용"
   ],
   "metadata": {
    "collapsed": false
   }
  },
  {
   "cell_type": "code",
   "execution_count": 2,
   "metadata": {
    "collapsed": true,
    "ExecuteTime": {
     "end_time": "2023-07-31T07:09:08.234748Z",
     "start_time": "2023-07-31T07:09:08.089118Z"
    }
   },
   "outputs": [
    {
     "data": {
      "text/plain": "((60000, 28, 28), (60000,), (10000, 28, 28), (10000,))"
     },
     "execution_count": 2,
     "metadata": {},
     "output_type": "execute_result"
    }
   ],
   "source": [
    "from keras.datasets import mnist\n",
    "\n",
    "(x_train, y_train), (x_test, y_test) = mnist.load_data()\n",
    "x_train.shape, y_train.shape, x_test.shape, y_test.shape"
   ]
  },
  {
   "cell_type": "markdown",
   "source": [
    "## 데이터 살펴보기"
   ],
   "metadata": {
    "collapsed": false
   }
  },
  {
   "cell_type": "code",
   "execution_count": null,
   "outputs": [],
   "source": [
    "plt.imshow(x_train[0])\n",
    "plt.axis('off')\n",
    "plt.show()"
   ],
   "metadata": {
    "collapsed": false
   }
  },
  {
   "cell_type": "markdown",
   "source": [
    "## 데이터 전처리\n",
    "- [0, 255] 범위의 정수를 [0, 1] 범위의 실수로 변환\n",
    "- Keras API에 사용하기 위해 행렬을 28x28에서 28x28x1로 변환\n",
    "- y값에 one hot encoding을 적용함"
   ],
   "metadata": {
    "collapsed": false
   }
  },
  {
   "cell_type": "code",
   "execution_count": 14,
   "outputs": [
    {
     "data": {
      "text/plain": "((60000, 28, 28, 1), dtype('float64'))"
     },
     "execution_count": 14,
     "metadata": {},
     "output_type": "execute_result"
    }
   ],
   "source": [
    "x_train = x_train.reshape(-1, 28, 28, 1) / 255\n",
    "x_test = x_test.reshape(-1, 28, 28, 1) / 255\n",
    "x_train.shape, x_train.dtype"
   ],
   "metadata": {
    "collapsed": false,
    "ExecuteTime": {
     "end_time": "2023-07-31T07:16:49.748557Z",
     "start_time": "2023-07-31T07:16:49.586512Z"
    }
   }
  },
  {
   "cell_type": "code",
   "execution_count": 15,
   "outputs": [
    {
     "data": {
      "text/plain": "((60000, 10), dtype('float32'))"
     },
     "execution_count": 15,
     "metadata": {},
     "output_type": "execute_result"
    }
   ],
   "source": [
    "from keras.utils import to_categorical\n",
    "\n",
    "y_train = to_categorical(y_train)\n",
    "y_test = to_categorical(y_test)\n",
    "y_train.shape, y_train.dtype"
   ],
   "metadata": {
    "collapsed": false,
    "ExecuteTime": {
     "end_time": "2023-07-31T07:17:27.371190Z",
     "start_time": "2023-07-31T07:17:27.364577Z"
    }
   }
  },
  {
   "cell_type": "markdown",
   "source": [
    "## 모델 구성"
   ],
   "metadata": {
    "collapsed": false
   }
  },
  {
   "cell_type": "code",
   "execution_count": 16,
   "outputs": [
    {
     "name": "stdout",
     "output_type": "stream",
     "text": [
      "Model: \"sequential_4\"\n",
      "_________________________________________________________________\n",
      " Layer (type)                Output Shape              Param #   \n",
      "=================================================================\n",
      " conv2d_11 (Conv2D)          (None, 26, 26, 32)        320       \n",
      "                                                                 \n",
      " max_pooling2d_9 (MaxPoolin  (None, 13, 13, 32)        0         \n",
      " g2D)                                                            \n",
      "                                                                 \n",
      " conv2d_12 (Conv2D)          (None, 11, 11, 64)        18496     \n",
      "                                                                 \n",
      " max_pooling2d_10 (MaxPooli  (None, 5, 5, 64)          0         \n",
      " ng2D)                                                           \n",
      "                                                                 \n",
      " flatten_4 (Flatten)         (None, 1600)              0         \n",
      "                                                                 \n",
      " dropout_2 (Dropout)         (None, 1600)              0         \n",
      "                                                                 \n",
      " dense_9 (Dense)             (None, 10)                16010     \n",
      "                                                                 \n",
      "=================================================================\n",
      "Total params: 34826 (136.04 KB)\n",
      "Trainable params: 34826 (136.04 KB)\n",
      "Non-trainable params: 0 (0.00 Byte)\n",
      "_________________________________________________________________\n"
     ]
    }
   ],
   "source": [
    "from keras import Sequential\n",
    "from keras.layers import Conv2D, MaxPooling2D, Flatten, Dense, Dropout, LSTM\n",
    "\n",
    "kernel_size = (3, 3)\n",
    "\n",
    "model = Sequential([\n",
    "    Conv2D(32, kernel_size, activation='relu', input_shape=(28, 28, 1)),\n",
    "    MaxPooling2D(pool_size=(2, 2)),\n",
    "    Conv2D(64, kernel_size, activation='relu'),\n",
    "    MaxPooling2D(pool_size=(2, 2)),\n",
    "    Flatten(),\n",
    "    Dropout(0.5),\n",
    "    Dense(10, activation='softmax')\n",
    "])\n",
    "\n",
    "model.compile(\n",
    "    loss='categorical_crossentropy',\n",
    "    optimizer='adam',\n",
    "    metrics=['accuracy']\n",
    ")\n",
    "\n",
    "model.summary()"
   ],
   "metadata": {
    "collapsed": false,
    "ExecuteTime": {
     "end_time": "2023-07-31T07:18:34.654618Z",
     "start_time": "2023-07-31T07:18:34.539382Z"
    }
   }
  },
  {
   "cell_type": "markdown",
   "source": [
    "## 모델 학습\n",
    "- 검증 데이터 기준 98% 정확도"
   ],
   "metadata": {
    "collapsed": false
   }
  },
  {
   "cell_type": "code",
   "execution_count": 17,
   "outputs": [
    {
     "name": "stdout",
     "output_type": "stream",
     "text": [
      "Epoch 1/15\n"
     ]
    },
    {
     "name": "stderr",
     "output_type": "stream",
     "text": [
      "2023-07-31 16:19:05.864322: I tensorflow/core/grappler/optimizers/custom_graph_optimizer_registry.cc:114] Plugin optimizer for device_type GPU is enabled.\n"
     ]
    },
    {
     "name": "stdout",
     "output_type": "stream",
     "text": [
      "469/469 [==============================] - ETA: 0s - loss: 0.3319 - accuracy: 0.8982"
     ]
    },
    {
     "name": "stderr",
     "output_type": "stream",
     "text": [
      "2023-07-31 16:19:14.489108: I tensorflow/core/grappler/optimizers/custom_graph_optimizer_registry.cc:114] Plugin optimizer for device_type GPU is enabled.\n"
     ]
    },
    {
     "name": "stdout",
     "output_type": "stream",
     "text": [
      "469/469 [==============================] - 10s 20ms/step - loss: 0.3319 - accuracy: 0.8982 - val_loss: 0.1004 - val_accuracy: 0.9695\n",
      "Epoch 2/15\n",
      "469/469 [==============================] - 9s 18ms/step - loss: 0.1058 - accuracy: 0.9685 - val_loss: 0.0587 - val_accuracy: 0.9830\n",
      "Epoch 3/15\n",
      "469/469 [==============================] - 9s 19ms/step - loss: 0.0786 - accuracy: 0.9749 - val_loss: 0.0450 - val_accuracy: 0.9847\n",
      "Epoch 4/15\n",
      "469/469 [==============================] - 9s 18ms/step - loss: 0.0662 - accuracy: 0.9793 - val_loss: 0.0398 - val_accuracy: 0.9865\n",
      "Epoch 5/15\n",
      "469/469 [==============================] - 9s 18ms/step - loss: 0.0577 - accuracy: 0.9818 - val_loss: 0.0386 - val_accuracy: 0.9873\n",
      "Epoch 6/15\n",
      "469/469 [==============================] - 9s 19ms/step - loss: 0.0506 - accuracy: 0.9841 - val_loss: 0.0347 - val_accuracy: 0.9884\n",
      "Epoch 7/15\n",
      "469/469 [==============================] - 9s 18ms/step - loss: 0.0470 - accuracy: 0.9855 - val_loss: 0.0314 - val_accuracy: 0.9897\n",
      "Epoch 8/15\n",
      "469/469 [==============================] - 9s 18ms/step - loss: 0.0440 - accuracy: 0.9862 - val_loss: 0.0299 - val_accuracy: 0.9900\n",
      "Epoch 9/15\n",
      "469/469 [==============================] - 9s 18ms/step - loss: 0.0405 - accuracy: 0.9871 - val_loss: 0.0304 - val_accuracy: 0.9906\n",
      "Epoch 10/15\n",
      "469/469 [==============================] - 9s 18ms/step - loss: 0.0383 - accuracy: 0.9883 - val_loss: 0.0267 - val_accuracy: 0.9902\n",
      "Epoch 11/15\n",
      "469/469 [==============================] - 9s 19ms/step - loss: 0.0359 - accuracy: 0.9890 - val_loss: 0.0269 - val_accuracy: 0.9905\n",
      "Epoch 12/15\n",
      "469/469 [==============================] - 9s 18ms/step - loss: 0.0342 - accuracy: 0.9895 - val_loss: 0.0310 - val_accuracy: 0.9901\n",
      "Epoch 13/15\n",
      "469/469 [==============================] - 9s 19ms/step - loss: 0.0321 - accuracy: 0.9895 - val_loss: 0.0247 - val_accuracy: 0.9914\n",
      "Epoch 14/15\n",
      "469/469 [==============================] - 9s 18ms/step - loss: 0.0320 - accuracy: 0.9898 - val_loss: 0.0261 - val_accuracy: 0.9909\n",
      "Epoch 15/15\n",
      "469/469 [==============================] - 9s 18ms/step - loss: 0.0301 - accuracy: 0.9897 - val_loss: 0.0224 - val_accuracy: 0.9922\n"
     ]
    }
   ],
   "source": [
    "history = model.fit(\n",
    "    x_train, y_train,\n",
    "    epochs=15,\n",
    "    batch_size=128,\n",
    "    validation_data=(x_test, y_test),\n",
    "    verbose=1\n",
    ")"
   ],
   "metadata": {
    "collapsed": false,
    "ExecuteTime": {
     "end_time": "2023-07-31T07:21:17.075229Z",
     "start_time": "2023-07-31T07:19:05.221531Z"
    }
   }
  },
  {
   "cell_type": "code",
   "execution_count": 18,
   "outputs": [
    {
     "data": {
      "text/plain": "<Figure size 640x480 with 1 Axes>",
      "image/png": "[encoded data removed]"
     },
     "metadata": {},
     "output_type": "display_data"
    }
   ],
   "source": [
    "# draw accuracy and val_accuracy graph\n",
    "plt.plot(history.history['accuracy'])\n",
    "plt.plot(history.history['val_accuracy'])\n",
    "plt.legend(['accuracy', 'val_accuracy'])\n",
    "plt.xlabel('epoch')\n",
    "plt.ylabel('accuracy')\n",
    "plt.show()"
   ],
   "metadata": {
    "collapsed": false,
    "ExecuteTime": {
     "end_time": "2023-07-31T07:25:22.135060Z",
     "start_time": "2023-07-31T07:25:22.054036Z"
    }
   }
  },
  {
   "cell_type": "markdown",
   "source": [
    "# 모델 저장"
   ],
   "metadata": {
    "collapsed": false
   }
  },
  {
   "cell_type": "code",
   "execution_count": 19,
   "outputs": [],
   "source": [
    "model.save(\"../model.keras\")"
   ],
   "metadata": {
    "collapsed": false,
    "ExecuteTime": {
     "end_time": "2023-07-31T07:25:24.869829Z",
     "start_time": "2023-07-31T07:25:24.824579Z"
    }
   }
  }
 ],
 "metadata": {
  "kernelspec": {
   "display_name": "Python 3",
   "language": "python",
   "name": "python3"
  },
  "language_info": {
   "codemirror_mode": {
    "name": "ipython",
    "version": 2
   },
   "file_extension": ".py",
   "mimetype": "text/x-python",
   "name": "python",
   "nbconvert_exporter": "python",
   "pygments_lexer": "ipython2",
   "version": "2.7.6"
  }
 },
 "nbformat": 4,
 "nbformat_minor": 0
}
