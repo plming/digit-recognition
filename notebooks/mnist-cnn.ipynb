{
 "cells": [
  {
   "cell_type": "markdown",
   "source": [
    "# 숫자 분류 모델 제작\n",
    "- 입력은 흰 바탕에 빨간색으로 숫자가 적힌 이미지\n",
    "- mnist 데이터셋을 변형하여 학습함"
   ],
   "metadata": {
    "collapsed": false
   }
  },
  {
   "cell_type": "code",
   "execution_count": 1,
   "outputs": [],
   "source": [
    "import cv2\n",
    "import numpy as np\n",
    "import matplotlib.pyplot as plt\n",
    "from tensorflow import keras"
   ],
   "metadata": {
    "collapsed": false,
    "ExecuteTime": {
     "end_time": "2023-07-28T13:17:24.502957900Z",
     "start_time": "2023-07-28T13:17:22.043326600Z"
    }
   }
  },
  {
   "cell_type": "markdown",
   "source": [
    "## 데이터 가져오기"
   ],
   "metadata": {
    "collapsed": false
   }
  },
  {
   "cell_type": "code",
   "execution_count": 2,
   "metadata": {
    "collapsed": true,
    "ExecuteTime": {
     "end_time": "2023-07-28T13:17:24.734582300Z",
     "start_time": "2023-07-28T13:17:24.502957900Z"
    }
   },
   "outputs": [
    {
     "data": {
      "text/plain": "((60000, 28, 28), (60000,), (10000, 28, 28), (10000,))"
     },
     "execution_count": 2,
     "metadata": {},
     "output_type": "execute_result"
    }
   ],
   "source": [
    "from keras.datasets import mnist\n",
    "\n",
    "(x_train, y_train), (x_test, y_test) = mnist.load_data()\n",
    "x_train.shape, y_train.shape, x_test.shape, y_test.shape"
   ]
  },
  {
   "cell_type": "markdown",
   "source": [
    "## 데이터 전처리\n",
    "- 1채널인 mnist 데이터를 3채널(rgb) 이미지로 바꾸고, 배경은 흰색, 숫자는 빨간색으로 바꿈"
   ],
   "metadata": {
    "collapsed": false
   }
  },
  {
   "cell_type": "code",
   "execution_count": 3,
   "outputs": [
    {
     "data": {
      "text/plain": "(60000, 28, 28, 3)"
     },
     "execution_count": 3,
     "metadata": {},
     "output_type": "execute_result"
    }
   ],
   "source": [
    "x_train_s = []\n",
    "for i in range(60000):\n",
    "    rgb = cv2.cvtColor(x_train[i], cv2.COLOR_GRAY2RGB)\n",
    "    rgb = cv2.bitwise_not(rgb)\n",
    "    rgb[:, :, 0] = 0xFF\n",
    "    x_train_s.append(rgb)\n",
    "\n",
    "x_train_s = np.array(x_train_s)\n",
    "x_train_s.shape"
   ],
   "metadata": {
    "collapsed": false,
    "ExecuteTime": {
     "end_time": "2023-07-28T13:17:25.163901200Z",
     "start_time": "2023-07-28T13:17:24.734582300Z"
    }
   }
  },
  {
   "cell_type": "code",
   "execution_count": 4,
   "outputs": [
    {
     "data": {
      "text/plain": "(10000, 28, 28, 3)"
     },
     "execution_count": 4,
     "metadata": {},
     "output_type": "execute_result"
    }
   ],
   "source": [
    "x_test_s = []\n",
    "for i in range(10000):\n",
    "    rgb = cv2.cvtColor(x_test[i], cv2.COLOR_GRAY2RGB)\n",
    "    rgb = cv2.bitwise_not(rgb)\n",
    "    rgb[:, :, 0] = 0xFF\n",
    "    x_test_s.append(rgb)\n",
    "\n",
    "x_test_s = np.array(x_test_s)\n",
    "x_test_s.shape"
   ],
   "metadata": {
    "collapsed": false,
    "ExecuteTime": {
     "end_time": "2023-07-28T13:17:25.242422400Z",
     "start_time": "2023-07-28T13:17:25.163901200Z"
    }
   }
  },
  {
   "cell_type": "code",
   "execution_count": 5,
   "outputs": [
    {
     "data": {
      "text/plain": "<Figure size 640x480 with 1 Axes>",
      "image/png": "[encoded data removed]"
     },
     "metadata": {},
     "output_type": "display_data"
    }
   ],
   "source": [
    "plt.imshow(x_train_s[0])\n",
    "plt.axis('off')\n",
    "plt.show()"
   ],
   "metadata": {
    "collapsed": false,
    "ExecuteTime": {
     "end_time": "2023-07-28T13:17:25.352190500Z",
     "start_time": "2023-07-28T13:17:25.242422400Z"
    }
   }
  },
  {
   "cell_type": "markdown",
   "source": [
    "## 모델 구성\n",
    "- 이미지 처리에 많이 쓰이는 합성곱 신경망을 사용함"
   ],
   "metadata": {
    "collapsed": false
   }
  },
  {
   "cell_type": "code",
   "execution_count": 6,
   "outputs": [
    {
     "name": "stdout",
     "output_type": "stream",
     "text": [
      "Model: \"sequential\"\n",
      "_________________________________________________________________\n",
      " Layer (type)                Output Shape              Param #   \n",
      "=================================================================\n",
      " conv2d (Conv2D)             (None, 26, 26, 32)        896       \n",
      "                                                                 \n",
      " max_pooling2d (MaxPooling2  (None, 13, 13, 32)        0         \n",
      " D)                                                              \n",
      "                                                                 \n",
      " conv2d_1 (Conv2D)           (None, 11, 11, 64)        18496     \n",
      "                                                                 \n",
      " max_pooling2d_1 (MaxPoolin  (None, 5, 5, 64)          0         \n",
      " g2D)                                                            \n",
      "                                                                 \n",
      " conv2d_2 (Conv2D)           (None, 3, 3, 128)         73856     \n",
      "                                                                 \n",
      " max_pooling2d_2 (MaxPoolin  (None, 1, 1, 128)         0         \n",
      " g2D)                                                            \n",
      "                                                                 \n",
      " flatten (Flatten)           (None, 128)               0         \n",
      "                                                                 \n",
      " dense (Dense)               (None, 128)               16512     \n",
      "                                                                 \n",
      " dropout (Dropout)           (None, 128)               0         \n",
      "                                                                 \n",
      " dense_1 (Dense)             (None, 10)                1290      \n",
      "                                                                 \n",
      "=================================================================\n",
      "Total params: 111050 (433.79 KB)\n",
      "Trainable params: 111050 (433.79 KB)\n",
      "Non-trainable params: 0 (0.00 Byte)\n",
      "_________________________________________________________________\n"
     ]
    }
   ],
   "source": [
    "from keras import Sequential\n",
    "from keras.layers import Conv2D, MaxPooling2D, Flatten, Dense, Dropout\n",
    "\n",
    "kernel_size = (3, 3)\n",
    "\n",
    "model = Sequential([\n",
    "    Conv2D(32, kernel_size, activation='relu', input_shape=(28, 28, 3)),\n",
    "    MaxPooling2D(pool_size=(2, 2)),\n",
    "    Conv2D(64, kernel_size, activation='relu'),\n",
    "    MaxPooling2D(pool_size=(2, 2)),\n",
    "    Conv2D(128, kernel_size, activation='relu'),\n",
    "    MaxPooling2D(pool_size=(2, 2)),\n",
    "    Flatten(),\n",
    "    Dense(128, activation='relu'),\n",
    "    Dropout(0.5),\n",
    "    Dense(10, activation='softmax')\n",
    "])\n",
    "\n",
    "model.compile(\n",
    "    loss='sparse_categorical_crossentropy',\n",
    "    optimizer='adam',\n",
    "    metrics=['accuracy']\n",
    ")\n",
    "\n",
    "model.summary()"
   ],
   "metadata": {
    "collapsed": false,
    "ExecuteTime": {
     "end_time": "2023-07-28T13:17:25.520593800Z",
     "start_time": "2023-07-28T13:17:25.305314Z"
    }
   }
  },
  {
   "cell_type": "markdown",
   "source": [
    "## 모델 학습\n",
    "- 검증 데이터 기준 98% 정확도"
   ],
   "metadata": {
    "collapsed": false
   }
  },
  {
   "cell_type": "code",
   "execution_count": 7,
   "outputs": [
    {
     "name": "stdout",
     "output_type": "stream",
     "text": [
      "Epoch 1/5\n",
      "469/469 - 17s - loss: 1.2312 - accuracy: 0.7717 - val_loss: 0.2026 - val_accuracy: 0.9419 - 17s/epoch - 36ms/step\n",
      "Epoch 2/5\n",
      "469/469 - 15s - loss: 0.2168 - accuracy: 0.9381 - val_loss: 0.1192 - val_accuracy: 0.9652 - 15s/epoch - 32ms/step\n",
      "Epoch 3/5\n",
      "469/469 - 14s - loss: 0.1549 - accuracy: 0.9557 - val_loss: 0.1008 - val_accuracy: 0.9721 - 14s/epoch - 30ms/step\n",
      "Epoch 4/5\n",
      "469/469 - 13s - loss: 0.1247 - accuracy: 0.9641 - val_loss: 0.0781 - val_accuracy: 0.9787 - 13s/epoch - 29ms/step\n",
      "Epoch 5/5\n",
      "469/469 - 14s - loss: 0.1107 - accuracy: 0.9690 - val_loss: 0.0854 - val_accuracy: 0.9761 - 14s/epoch - 29ms/step\n"
     ]
    }
   ],
   "source": [
    "history = model.fit(\n",
    "    x_train_s, y_train,\n",
    "    epochs=5,\n",
    "    batch_size=128,\n",
    "    validation_data=(x_test_s, y_test),\n",
    "    verbose=2\n",
    ")"
   ],
   "metadata": {
    "collapsed": false,
    "ExecuteTime": {
     "end_time": "2023-07-28T13:18:38.843705800Z",
     "start_time": "2023-07-28T13:17:25.479247700Z"
    }
   }
  },
  {
   "cell_type": "code",
   "execution_count": 8,
   "outputs": [
    {
     "data": {
      "text/plain": "<Figure size 640x480 with 1 Axes>",
      "image/png": "[encoded data removed]"
     },
     "metadata": {},
     "output_type": "display_data"
    }
   ],
   "source": [
    "# draw accuracy and val_accuracy graph\n",
    "plt.plot(history.history['accuracy'])\n",
    "plt.plot(history.history['val_accuracy'])\n",
    "plt.legend(['accuracy', 'val_accuracy'])\n",
    "plt.xlabel('epoch')\n",
    "plt.ylabel('accuracy')\n",
    "plt.show()"
   ],
   "metadata": {
    "collapsed": false,
    "ExecuteTime": {
     "end_time": "2023-07-28T13:18:38.986423900Z",
     "start_time": "2023-07-28T13:18:38.848354300Z"
    }
   }
  },
  {
   "cell_type": "markdown",
   "source": [
    "# 모델 저장"
   ],
   "metadata": {
    "collapsed": false
   }
  },
  {
   "cell_type": "code",
   "execution_count": 12,
   "outputs": [],
   "source": [
    "model.save(\"model.h5\")"
   ],
   "metadata": {
    "collapsed": false,
    "ExecuteTime": {
     "end_time": "2023-07-28T13:24:36.017063Z",
     "start_time": "2023-07-28T13:24:35.959411Z"
    }
   }
  }
 ],
 "metadata": {
  "kernelspec": {
   "display_name": "Python 3",
   "language": "python",
   "name": "python3"
  },
  "language_info": {
   "codemirror_mode": {
    "name": "ipython",
    "version": 2
   },
   "file_extension": ".py",
   "mimetype": "text/x-python",
   "name": "python",
   "nbconvert_exporter": "python",
   "pygments_lexer": "ipython2",
   "version": "2.7.6"
  }
 },
 "nbformat": 4,
 "nbformat_minor": 0
}
